{
  "cells": [
    {
      "cell_type": "code",
      "execution_count": null,
      "id": "f88fed87",
      "metadata": {
        "id": "f88fed87"
      },
      "outputs": [],
      "source": [
        "import numpy as np\n",
        "import pandas as pd\n",
        "import seaborn as sns\n",
        "import matplotlib.pyplot as plt\n",
        "from numpy.linalg import inv\n",
        "%matplotlib inline\n",
        "from sklearn.model_selection import train_test_split, GridSearchCV, RandomizedSearchCV\n",
        "from sklearn.preprocessing import StandardScaler, MinMaxScaler\n",
        "import random\n",
        "from sklearn.pipeline import make_pipeline\n",
        "import warnings\n",
        "from sklearn import preprocessing\n",
        "from datetime import datetime\n",
        "from sklearn.preprocessing import OneHotEncoder, OrdinalEncoder\n",
        "from sklearn.compose import make_column_transformer\n",
        "from sklearn.ensemble import RandomForestRegressor, GradientBoostingRegressor, HistGradientBoostingRegressor\n",
        "from xgboost import XGBRegressor\n",
        "from lightgbm import LGBMRegressor\n",
        "from sklearn.svm import SVR\n",
        "from sklearn.linear_model import LinearRegression, ElasticNet\n",
        "from sklearn.metrics import mean_squared_error"
      ]
    },
    {
      "cell_type": "code",
      "source": [
        "warnings.filterwarnings('ignore')"
      ],
      "metadata": {
        "id": "PFl8J7ysrn_i"
      },
      "id": "PFl8J7ysrn_i",
      "execution_count": null,
      "outputs": []
    },
    {
      "cell_type": "code",
      "source": [
        "from google.colab import drive\n",
        "drive.mount('/content/drive')"
      ],
      "metadata": {
        "colab": {
          "base_uri": "https://localhost:8080/"
        },
        "id": "49mbfjn1ZGcQ",
        "outputId": "adcb9c38-ce96-4b4c-c202-d53e864cf0be"
      },
      "id": "49mbfjn1ZGcQ",
      "execution_count": null,
      "outputs": [
        {
          "output_type": "stream",
          "name": "stdout",
          "text": [
            "Mounted at /content/drive\n"
          ]
        }
      ]
    },
    {
      "cell_type": "code",
      "execution_count": null,
      "id": "4007b355",
      "metadata": {
        "id": "4007b355",
        "colab": {
          "base_uri": "https://localhost:8080/"
        },
        "outputId": "5a1080e7-84e5-492e-d33c-1d047e1935cd"
      },
      "outputs": [
        {
          "output_type": "execute_result",
          "data": {
            "text/plain": [
              "(375734, 246)"
            ]
          },
          "metadata": {},
          "execution_count": 5
        }
      ],
      "source": [
        "df = pd.read_csv('drive/My Drive/Colab Notebooks/WiDS/train_data.csv')\n",
        "df.shape"
      ]
    },
    {
      "cell_type": "markdown",
      "source": [
        "## Exploratory Data Analysis & Preprocessing"
      ],
      "metadata": {
        "id": "qcBcyJPlfbM6"
      },
      "id": "qcBcyJPlfbM6"
    },
    {
      "cell_type": "markdown",
      "source": [
        "### Drop missing values"
      ],
      "metadata": {
        "id": "5jYHkidmltB5"
      },
      "id": "5jYHkidmltB5"
    },
    {
      "cell_type": "code",
      "execution_count": null,
      "id": "79173639",
      "metadata": {
        "id": "79173639",
        "outputId": "1a187ddb-d8da-484c-b790-f9b978aaad9b",
        "colab": {
          "base_uri": "https://localhost:8080/"
        }
      },
      "outputs": [
        {
          "output_type": "stream",
          "name": "stdout",
          "text": [
            "                          percent\n",
            "nmme0-tmp2m-34w__ccsm30  0.042408\n",
            "nmme-tmp2m-56w__ccsm3    0.027360\n",
            "nmme-prate-34w__ccsm3    0.023256\n",
            "nmme0-prate-56w__ccsm30  0.042408\n",
            "nmme0-prate-34w__ccsm30  0.042408\n",
            "nmme-prate-56w__ccsm3    0.027360\n",
            "nmme-tmp2m-34w__ccsm3    0.023256\n",
            "ccsm30                   0.042408\n"
          ]
        }
      ],
      "source": [
        "# missing values\n",
        "missing = pd.DataFrame(df.isna().sum() / df.shape[0], columns=['percent'])\n",
        "print(missing[missing.percent>0])"
      ]
    },
    {
      "cell_type": "code",
      "source": [
        "df1 = df.dropna(how='any')\n",
        "print(df1.shape)\n",
        "print(df1.shape[0]/df.shape[0])"
      ],
      "metadata": {
        "colab": {
          "base_uri": "https://localhost:8080/"
        },
        "id": "rZpEwUg1gJNN",
        "outputId": "012fcaee-00b2-4c2d-eccd-b4d11d3ff6dd"
      },
      "id": "rZpEwUg1gJNN",
      "execution_count": null,
      "outputs": [
        {
          "output_type": "stream",
          "name": "stdout",
          "text": [
            "(352604, 246)\n",
            "0.9384404924760602\n"
          ]
        }
      ]
    },
    {
      "cell_type": "code",
      "source": [
        "X = df1.drop(['index','contest-tmp2m-14d__tmp2m'], axis = 1)\n",
        "y = df1['contest-tmp2m-14d__tmp2m'].to_numpy()\n",
        "y = y.reshape(y.shape[0],1)\n",
        "print(X.shape, y.shape)"
      ],
      "metadata": {
        "colab": {
          "base_uri": "https://localhost:8080/"
        },
        "id": "RWb0x0m_kcPo",
        "outputId": "e68c164b-c5de-4671-d1c8-3c18dba72cc9"
      },
      "id": "RWb0x0m_kcPo",
      "execution_count": null,
      "outputs": [
        {
          "output_type": "stream",
          "name": "stdout",
          "text": [
            "(352604, 244) (352604, 1)\n"
          ]
        }
      ]
    },
    {
      "cell_type": "markdown",
      "source": [
        "### Drop highly correlated columns"
      ],
      "metadata": {
        "id": "95D3SxPhly8T"
      },
      "id": "95D3SxPhly8T"
    },
    {
      "cell_type": "code",
      "execution_count": null,
      "id": "39b76f2d",
      "metadata": {
        "id": "39b76f2d"
      },
      "outputs": [],
      "source": [
        "corr_mat = X.corr()\n",
        "\n",
        "# highly correlated columns\n",
        "def get_redundant_pairs(df):\n",
        "    cols = list(df.columns)\n",
        "    pairs_to_drop = set()\n",
        "    for i in range(df.shape[0]):\n",
        "        for j in range(i+1):\n",
        "            pairs_to_drop.add((cols[i],cols[j]))\n",
        "    return pairs_to_drop\n",
        "\n",
        "def get_top_abs_correlations(df,n=5):\n",
        "    # here df is a correlation matrix\n",
        "    top_corr = df.abs().unstack()\n",
        "    pairs_to_drop = get_redundant_pairs(df)\n",
        "    top_corr = top_corr.drop(pairs_to_drop).sort_values(ascending=False)\n",
        "    return top_corr[0:n]"
      ]
    },
    {
      "cell_type": "code",
      "source": [
        "top_related_vars = get_top_abs_correlations(corr_mat,n=500)\n",
        "print(top_related_vars)"
      ],
      "metadata": {
        "colab": {
          "base_uri": "https://localhost:8080/"
        },
        "id": "sYt4bbFRZzJV",
        "outputId": "a43a74c5-410d-4748-d822-ec02a6ff69e4"
      },
      "id": "sYt4bbFRZzJV",
      "execution_count": null,
      "outputs": [
        {
          "output_type": "stream",
          "name": "stdout",
          "text": [
            "nmme-tmp2m-56w__nmmemean     nmme-tmp2m-34w__nmmemean       0.998910\n",
            "nmme0-tmp2m-34w__gfdlflora0  nmme0-tmp2m-34w__gfdlflorb0    0.998893\n",
            "gfdlflora0                   gfdlflorb0                     0.998837\n",
            "nmme-tmp2m-56w__cfsv2        nmme-tmp2m-34w__cfsv2          0.998234\n",
            "nmme-tmp2m-56w__gfdlflorb    nmme-tmp2m-34w__gfdlflorb      0.998043\n",
            "                                                              ...   \n",
            "nmme0-tmp2m-34w__nmme0mean   nmme-tmp2m-56w__gfdlflorb      0.899157\n",
            "                             nmme-tmp2m-56w__ccsm3          0.898802\n",
            "nmme0-tmp2m-34w__nasa0       gfdlflorb0                     0.898714\n",
            "                             nmme-tmp2m-56w__cfsv2          0.898698\n",
            "nmme0-tmp2m-34w__nmme0mean   nmme-tmp2m-34w__ccsm4          0.898526\n",
            "Length: 500, dtype: float64\n"
          ]
        }
      ]
    },
    {
      "cell_type": "code",
      "execution_count": null,
      "id": "50a1fb8f",
      "metadata": {
        "id": "50a1fb8f",
        "colab": {
          "base_uri": "https://localhost:8080/"
        },
        "outputId": "a20d2b34-8f50-461e-d3a1-873f191c8195"
      },
      "outputs": [
        {
          "output_type": "stream",
          "name": "stdout",
          "text": [
            "(352604, 189)\n"
          ]
        }
      ],
      "source": [
        "# drop highly correlated columns (corr > 0.95)\n",
        "upper_tri = corr_mat.where(np.triu(np.ones(corr_mat.shape),k=1).astype(np.bool_))\n",
        "to_drop = [column for column in upper_tri.columns if any(upper_tri[column] > 0.95)] # change boundary here\n",
        "X_dropcorr = X.drop(to_drop, axis=1)\n",
        "print(X_dropcorr.shape)"
      ]
    },
    {
      "cell_type": "code",
      "source": [
        "# check correlation again\n",
        "corr_mat2 = X_dropcorr.corr()\n",
        "print()\n",
        "print(get_top_abs_correlations(corr_mat2,n=10))"
      ],
      "metadata": {
        "id": "ALY5kgtv1U5_",
        "colab": {
          "base_uri": "https://localhost:8080/"
        },
        "outputId": "f5d7a103-0f7e-4849-bf9b-2857f79bee34"
      },
      "id": "ALY5kgtv1U5_",
      "execution_count": null,
      "outputs": [
        {
          "output_type": "stream",
          "name": "stdout",
          "text": [
            "\n",
            "nmme0-tmp2m-34w__cancm30          cancm30                       0.941017\n",
            "mei__mei                          mei__meirank                  0.932333\n",
            "nmme-prate-34w__gfdlflora         nmme-prate-34w__gfdlflorb     0.927319\n",
            "nmme0-prate-56w__nmme0mean        nmme0-prate-34w__nmme0mean    0.922748\n",
            "nmme0-tmp2m-34w__cancm30          nmme-tmp2m-56w__cancm3        0.917391\n",
            "contest-pres-sfc-gauss-14d__pres  elevation__elevation          0.916116\n",
            "sst-2010-1                        icec-2010-1                   0.915411\n",
            "nmme0-prate-56w__cfsv20           nmme0-prate-34w__cfsv20       0.909769\n",
            "nmme-prate-34w__gfdlflorb         nmme-prate-34w__nmmemean      0.907972\n",
            "nmme-prate-34w__gfdl              nmme-prate-34w__nmmemean      0.907903\n",
            "dtype: float64\n"
          ]
        }
      ]
    },
    {
      "cell_type": "markdown",
      "source": [
        "### Dev and Test Split and Preprocessing"
      ],
      "metadata": {
        "id": "iF28xbWOflNC"
      },
      "id": "iF28xbWOflNC"
    },
    {
      "cell_type": "code",
      "source": [
        "# set random_state = 0\n",
        "X_dev, X_test, y_dev, y_test = train_test_split(X_dropcorr, y, test_size=0.2, random_state=0)\n",
        "X_train, X_val, y_train, y_val = train_test_split(X_dev, y_dev, test_size=0.25, random_state=0)"
      ],
      "metadata": {
        "id": "3SSVnu4WeCKr"
      },
      "id": "3SSVnu4WeCKr",
      "execution_count": null,
      "outputs": []
    },
    {
      "cell_type": "code",
      "source": [
        "# check for string type columns\n",
        "stridx = (X_dropcorr.applymap(type) == str).all(0)\n",
        "print(X_dropcorr.columns[stridx])"
      ],
      "metadata": {
        "colab": {
          "base_uri": "https://localhost:8080/"
        },
        "id": "lHsPNtI7paGr",
        "outputId": "859e0f28-c11f-42b8-f218-8b07f6511816"
      },
      "id": "lHsPNtI7paGr",
      "execution_count": null,
      "outputs": [
        {
          "output_type": "stream",
          "name": "stdout",
          "text": [
            "Index(['startdate', 'climateregions__climateregion'], dtype='object')\n"
          ]
        }
      ]
    },
    {
      "cell_type": "code",
      "source": [
        "X_dropcorr['climateregions__climateregion'].value_counts()"
      ],
      "metadata": {
        "colab": {
          "base_uri": "https://localhost:8080/"
        },
        "id": "8ekGWy2OyjrN",
        "outputId": "1c1d3788-e505-41cd-dfe9-c4ae8421f6b5"
      },
      "id": "8ekGWy2OyjrN",
      "execution_count": null,
      "outputs": [
        {
          "output_type": "execute_result",
          "data": {
            "text/plain": [
              "BSk    131026\n",
              "Dfb     49392\n",
              "Cfa     48706\n",
              "Csb     38416\n",
              "Dfa     21266\n",
              "BWk     13034\n",
              "Dfc     11662\n",
              "BWh      8918\n",
              "Csa      8918\n",
              "Dsb      7546\n",
              "BSh      4802\n",
              "Cfb      4116\n",
              "Dsc      2744\n",
              "Dwa      1372\n",
              "Dwb       686\n",
              "Name: climateregions__climateregion, dtype: int64"
            ]
          },
          "metadata": {},
          "execution_count": 15
        }
      ]
    },
    {
      "cell_type": "code",
      "source": [
        "# Combine numerical and categorical variables\n",
        "# Apply standardized scaling to numerical variables\n",
        "# One Hot Encoding to climateregions\n",
        "# Ordinal Encoding to startdate\n",
        "\n",
        "ohe_features = ['climateregions__climateregion']\n",
        "ord_features = ['startdate']\n",
        "num_features = [column for column in X_dropcorr.columns if column not in ohe_features and column not in ord_features]\n",
        "\n",
        "X_train_mixed = X_train[ohe_features + ord_features + num_features]\n",
        "X_val_mixed = X_val[ohe_features + ord_features + num_features]\n",
        "X_test_mixed = X_test[ohe_features + ord_features + num_features]\n",
        "\n",
        "preprocess = make_column_transformer((StandardScaler(), num_features),\n",
        "                                     (OneHotEncoder(), ohe_features),\n",
        "                                     (OrdinalEncoder(), ord_features))\n",
        "preprocess.fit(X_train_mixed)\n",
        "X_train_prepro = preprocess.transform(X_train_mixed)\n",
        "X_val_prepro = preprocess.transform(X_val_mixed)\n",
        "X_test_prepro = preprocess.transform(X_test_mixed)\n",
        "\n",
        "print(preprocess.named_transformers_['onehotencoder'].get_feature_names())"
      ],
      "metadata": {
        "colab": {
          "base_uri": "https://localhost:8080/"
        },
        "id": "iQDh7SVwvMTV",
        "outputId": "32d89bae-90ce-49b8-c97d-9d1d12170f0d"
      },
      "id": "iQDh7SVwvMTV",
      "execution_count": null,
      "outputs": [
        {
          "output_type": "stream",
          "name": "stdout",
          "text": [
            "['x0_BSh' 'x0_BSk' 'x0_BWh' 'x0_BWk' 'x0_Cfa' 'x0_Cfb' 'x0_Csa' 'x0_Csb'\n",
            " 'x0_Dfa' 'x0_Dfb' 'x0_Dfc' 'x0_Dsb' 'x0_Dsc' 'x0_Dwa' 'x0_Dwb']\n"
          ]
        }
      ]
    },
    {
      "cell_type": "code",
      "source": [
        "# Add column for bias term\n",
        "X_train_stacked = np.hstack([np.ones((X_train_prepro.shape[0], 1)), X_train_prepro])\n",
        "X_val_stacked = np.hstack([np.ones((X_val_prepro.shape[0], 1)), X_val_prepro])\n",
        "X_test_stacked = np.hstack([np.ones((X_test_prepro.shape[0], 1)), X_test_prepro])\n",
        "\n",
        "print(X_train_stacked.shape)\n",
        "print(X_val_stacked.shape)\n",
        "print(X_test_stacked.shape)"
      ],
      "metadata": {
        "colab": {
          "base_uri": "https://localhost:8080/"
        },
        "id": "jAE2vKlCnoKi",
        "outputId": "4858869c-e694-4d66-e10d-7c27f71e9106"
      },
      "id": "jAE2vKlCnoKi",
      "execution_count": null,
      "outputs": [
        {
          "output_type": "stream",
          "name": "stdout",
          "text": [
            "(211562, 204)\n",
            "(70521, 204)\n",
            "(70521, 204)\n"
          ]
        }
      ]
    },
    {
      "cell_type": "markdown",
      "source": [
        "## Machine Learning Models"
      ],
      "metadata": {
        "id": "qnaGdw3VmpXM"
      },
      "id": "qnaGdw3VmpXM"
    },
    {
      "cell_type": "markdown",
      "source": [
        "### Random Forest"
      ],
      "metadata": {
        "id": "ER0uk_zYmv3n"
      },
      "id": "ER0uk_zYmv3n"
    },
    {
      "cell_type": "code",
      "source": [
        "params = {'n_estimators': [20, 50, 100, 150, 200],\n",
        "          #'criterion': ['squared_error', 'absolute_error', 'friedman_mse', 'poisson'],\n",
        "        #'max_features': ['sqrt', 'log2', 'None'],\n",
        "          'max_depth': [5, 10, 15, 20],\n",
        "          'min_samples_split': [2, 5, 10, 15]\n",
        "          #'min_samples_leaf': [1, 2, 4],\n",
        "          }\n",
        "\n",
        "rg_rf = RandomForestRegressor(random_state = 0) # 5-fold cv by default\n",
        "pipe_rf = make_pipeline(RandomizedSearchCV(rg_rf, \n",
        "                                    param_distributions = params,\n",
        "                                    cv = 3,\n",
        "                                    n_jobs = -1,\n",
        "                                    random_state = 0,\n",
        "                                    return_train_score = True))\n",
        "pipe_rf.fit(X_train_stacked, y_train)\n",
        "grid_results_rf = pipe_rf.named_steps['randomizedsearchcv']\n",
        "\n",
        "print(f'Best train score: ', grid_results_rf.best_score_ )\n",
        "print(f'Validation score: ', pipe_rf.score(X_val_stacked, y_val))\n",
        "print(f'Test score:       ', pipe_rf.score(X_test_stacked, y_test))\n",
        "print(f'Best model params: ', grid_results_rf.best_params_)"
      ],
      "metadata": {
        "id": "SlntNgUPmopp"
      },
      "id": "SlntNgUPmopp",
      "execution_count": null,
      "outputs": []
    },
    {
      "cell_type": "code",
      "source": [],
      "metadata": {
        "id": "dTn6K2ncmap0"
      },
      "id": "dTn6K2ncmap0",
      "execution_count": null,
      "outputs": []
    },
    {
      "cell_type": "code",
      "source": [
        "\n",
        "rg_rf = RandomForestRegressor(random_state = 0) # 5-fold cv by default\n",
        "rg_rf.fit(X_train_stacked, y_train)\n",
        "rf_train_pre = rg_rf.predict(X_train_stacked)\n",
        "rf_val_pre = rg_rf.predict(X_val_stacked)\n",
        "rf_test_pre = rg_rf.predict(X_test_stacked)\n",
        "print(f'Training R squared: ',rg_rf.score(X_train_stacked, y_train))\n",
        "print(f'Training MSE: ', mean_squared_error(y_train, rf_train_pre))\n",
        "print(f'Validation score: ', mean_squared_error(y_val, rf_val_pre))\n",
        "print(f'Test score: ', mean_squared_error(y_test, rf_test_pre))\n"
      ],
      "metadata": {
        "colab": {
          "base_uri": "https://localhost:8080/"
        },
        "id": "-yUyg0yNBeV5",
        "outputId": "cf531771-d5fd-4c38-f151-d49554096873"
      },
      "id": "-yUyg0yNBeV5",
      "execution_count": null,
      "outputs": [
        {
          "output_type": "stream",
          "name": "stdout",
          "text": [
            "Training R squared:  0.9995841962734838\n",
            "Training MSE:  0.04119512965828963\n",
            "Validation score:  0.28851471581288446\n",
            "Test score:  0.28162926987715065\n"
          ]
        }
      ]
    },
    {
      "cell_type": "markdown",
      "source": [
        "### Gradient Boosting"
      ],
      "metadata": {
        "id": "2Y9tXpDLhapk"
      },
      "id": "2Y9tXpDLhapk"
    },
    {
      "cell_type": "code",
      "source": [
        "params = {'loss':['squared_error', 'absolute_error', 'huber', 'quantile'],\n",
        "          'learning_rate': [0.01,0.02,0.05,0.1],\n",
        "          'n_estimators': [30, 50, 100, 200, 300],\n",
        "          'criterion':['friedman_mse', 'squared_error'],\n",
        "          'max_features': ['sqrt', 'log2', 'auto'],\n",
        "          'max_depth': [2, 5, 10, 15, 20],\n",
        "          'min_samples_split': [2, 5, 10, 15],\n",
        "          'min_samples_leaf': [1, 2, 4],\n",
        "               }\n",
        "\n",
        "rg_gb = GradientBoostingRegressor(random_state = 0, warm_start = True) \n",
        "pipe_gb = make_pipeline(RandomizedSearchCV(rg_gb, \n",
        "                                    param_distributions = params,\n",
        "                                    n_jobs = -1,\n",
        "                                    cv = 3,\n",
        "                                    return_train_score = True))\n",
        "pipe_gb.fit(X_train_stacked, y_train)\n",
        "random_results_gb = pipe_rf.named_steps['randomizedsearchcv']\n",
        "\n",
        "print(f'Best train score: ', random_results_gb.best_score_ )\n",
        "print(f'Validation score: ', pipe_gb.score(X_val_stacked, y_val))\n",
        "print(f'Test score:       ', pipe_gb.score(X_test_stacked, y_test))\n",
        "print(f'Best model params: ', random_results_gb.best_params_)"
      ],
      "metadata": {
        "colab": {
          "base_uri": "https://localhost:8080/",
          "height": 385
        },
        "id": "h4-qngpDiVvb",
        "outputId": "0b7c25f1-ed7e-4c51-9fe8-fca6a3bf3be1"
      },
      "id": "h4-qngpDiVvb",
      "execution_count": null,
      "outputs": [
        {
          "output_type": "error",
          "ename": "KeyboardInterrupt",
          "evalue": "ignored",
          "traceback": [
            "\u001b[0;31m---------------------------------------------------------------------------\u001b[0m",
            "\u001b[0;31mKeyboardInterrupt\u001b[0m                         Traceback (most recent call last)",
            "\u001b[0;32m<ipython-input-25-a6a002ef50ca>\u001b[0m in \u001b[0;36m<module>\u001b[0;34m\u001b[0m\n\u001b[1;32m     15\u001b[0m                                     \u001b[0mcv\u001b[0m \u001b[0;34m=\u001b[0m \u001b[0;36m3\u001b[0m\u001b[0;34m,\u001b[0m\u001b[0;34m\u001b[0m\u001b[0;34m\u001b[0m\u001b[0m\n\u001b[1;32m     16\u001b[0m                                     return_train_score = True))\n\u001b[0;32m---> 17\u001b[0;31m \u001b[0mpipe_gb\u001b[0m\u001b[0;34m.\u001b[0m\u001b[0mfit\u001b[0m\u001b[0;34m(\u001b[0m\u001b[0mX_train_stacked\u001b[0m\u001b[0;34m,\u001b[0m \u001b[0my_train\u001b[0m\u001b[0;34m)\u001b[0m\u001b[0;34m\u001b[0m\u001b[0;34m\u001b[0m\u001b[0m\n\u001b[0m\u001b[1;32m     18\u001b[0m \u001b[0mrandom_results_gb\u001b[0m \u001b[0;34m=\u001b[0m \u001b[0mpipe_rf\u001b[0m\u001b[0;34m.\u001b[0m\u001b[0mnamed_steps\u001b[0m\u001b[0;34m[\u001b[0m\u001b[0;34m'randomizedsearchcv'\u001b[0m\u001b[0;34m]\u001b[0m\u001b[0;34m\u001b[0m\u001b[0;34m\u001b[0m\u001b[0m\n\u001b[1;32m     19\u001b[0m \u001b[0;34m\u001b[0m\u001b[0m\n",
            "\u001b[0;32m/usr/local/lib/python3.8/dist-packages/sklearn/pipeline.py\u001b[0m in \u001b[0;36mfit\u001b[0;34m(self, X, y, **fit_params)\u001b[0m\n\u001b[1;32m    392\u001b[0m             \u001b[0;32mif\u001b[0m \u001b[0mself\u001b[0m\u001b[0;34m.\u001b[0m\u001b[0m_final_estimator\u001b[0m \u001b[0;34m!=\u001b[0m \u001b[0;34m\"passthrough\"\u001b[0m\u001b[0;34m:\u001b[0m\u001b[0;34m\u001b[0m\u001b[0;34m\u001b[0m\u001b[0m\n\u001b[1;32m    393\u001b[0m                 \u001b[0mfit_params_last_step\u001b[0m \u001b[0;34m=\u001b[0m \u001b[0mfit_params_steps\u001b[0m\u001b[0;34m[\u001b[0m\u001b[0mself\u001b[0m\u001b[0;34m.\u001b[0m\u001b[0msteps\u001b[0m\u001b[0;34m[\u001b[0m\u001b[0;34m-\u001b[0m\u001b[0;36m1\u001b[0m\u001b[0;34m]\u001b[0m\u001b[0;34m[\u001b[0m\u001b[0;36m0\u001b[0m\u001b[0;34m]\u001b[0m\u001b[0;34m]\u001b[0m\u001b[0;34m\u001b[0m\u001b[0;34m\u001b[0m\u001b[0m\n\u001b[0;32m--> 394\u001b[0;31m                 \u001b[0mself\u001b[0m\u001b[0;34m.\u001b[0m\u001b[0m_final_estimator\u001b[0m\u001b[0;34m.\u001b[0m\u001b[0mfit\u001b[0m\u001b[0;34m(\u001b[0m\u001b[0mXt\u001b[0m\u001b[0;34m,\u001b[0m \u001b[0my\u001b[0m\u001b[0;34m,\u001b[0m \u001b[0;34m**\u001b[0m\u001b[0mfit_params_last_step\u001b[0m\u001b[0;34m)\u001b[0m\u001b[0;34m\u001b[0m\u001b[0;34m\u001b[0m\u001b[0m\n\u001b[0m\u001b[1;32m    395\u001b[0m \u001b[0;34m\u001b[0m\u001b[0m\n\u001b[1;32m    396\u001b[0m         \u001b[0;32mreturn\u001b[0m \u001b[0mself\u001b[0m\u001b[0;34m\u001b[0m\u001b[0;34m\u001b[0m\u001b[0m\n",
            "\u001b[0;32m/usr/local/lib/python3.8/dist-packages/sklearn/model_selection/_search.py\u001b[0m in \u001b[0;36mfit\u001b[0;34m(self, X, y, groups, **fit_params)\u001b[0m\n\u001b[1;32m    889\u001b[0m                 \u001b[0;32mreturn\u001b[0m \u001b[0mresults\u001b[0m\u001b[0;34m\u001b[0m\u001b[0;34m\u001b[0m\u001b[0m\n\u001b[1;32m    890\u001b[0m \u001b[0;34m\u001b[0m\u001b[0m\n\u001b[0;32m--> 891\u001b[0;31m             \u001b[0mself\u001b[0m\u001b[0;34m.\u001b[0m\u001b[0m_run_search\u001b[0m\u001b[0;34m(\u001b[0m\u001b[0mevaluate_candidates\u001b[0m\u001b[0;34m)\u001b[0m\u001b[0;34m\u001b[0m\u001b[0;34m\u001b[0m\u001b[0m\n\u001b[0m\u001b[1;32m    892\u001b[0m \u001b[0;34m\u001b[0m\u001b[0m\n\u001b[1;32m    893\u001b[0m             \u001b[0;31m# multimetric is determined here because in the case of a callable\u001b[0m\u001b[0;34m\u001b[0m\u001b[0;34m\u001b[0m\u001b[0;34m\u001b[0m\u001b[0m\n",
            "\u001b[0;32m/usr/local/lib/python3.8/dist-packages/sklearn/model_selection/_search.py\u001b[0m in \u001b[0;36m_run_search\u001b[0;34m(self, evaluate_candidates)\u001b[0m\n\u001b[1;32m   1764\u001b[0m     \u001b[0;32mdef\u001b[0m \u001b[0m_run_search\u001b[0m\u001b[0;34m(\u001b[0m\u001b[0mself\u001b[0m\u001b[0;34m,\u001b[0m \u001b[0mevaluate_candidates\u001b[0m\u001b[0;34m)\u001b[0m\u001b[0;34m:\u001b[0m\u001b[0;34m\u001b[0m\u001b[0;34m\u001b[0m\u001b[0m\n\u001b[1;32m   1765\u001b[0m         \u001b[0;34m\"\"\"Search n_iter candidates from param_distributions\"\"\"\u001b[0m\u001b[0;34m\u001b[0m\u001b[0;34m\u001b[0m\u001b[0m\n\u001b[0;32m-> 1766\u001b[0;31m         evaluate_candidates(\n\u001b[0m\u001b[1;32m   1767\u001b[0m             ParameterSampler(\n\u001b[1;32m   1768\u001b[0m                 \u001b[0mself\u001b[0m\u001b[0;34m.\u001b[0m\u001b[0mparam_distributions\u001b[0m\u001b[0;34m,\u001b[0m \u001b[0mself\u001b[0m\u001b[0;34m.\u001b[0m\u001b[0mn_iter\u001b[0m\u001b[0;34m,\u001b[0m \u001b[0mrandom_state\u001b[0m\u001b[0;34m=\u001b[0m\u001b[0mself\u001b[0m\u001b[0;34m.\u001b[0m\u001b[0mrandom_state\u001b[0m\u001b[0;34m\u001b[0m\u001b[0;34m\u001b[0m\u001b[0m\n",
            "\u001b[0;32m/usr/local/lib/python3.8/dist-packages/sklearn/model_selection/_search.py\u001b[0m in \u001b[0;36mevaluate_candidates\u001b[0;34m(candidate_params, cv, more_results)\u001b[0m\n\u001b[1;32m    836\u001b[0m                     )\n\u001b[1;32m    837\u001b[0m \u001b[0;34m\u001b[0m\u001b[0m\n\u001b[0;32m--> 838\u001b[0;31m                 out = parallel(\n\u001b[0m\u001b[1;32m    839\u001b[0m                     delayed(_fit_and_score)(\n\u001b[1;32m    840\u001b[0m                         \u001b[0mclone\u001b[0m\u001b[0;34m(\u001b[0m\u001b[0mbase_estimator\u001b[0m\u001b[0;34m)\u001b[0m\u001b[0;34m,\u001b[0m\u001b[0;34m\u001b[0m\u001b[0;34m\u001b[0m\u001b[0m\n",
            "\u001b[0;32m/usr/local/lib/python3.8/dist-packages/joblib/parallel.py\u001b[0m in \u001b[0;36m__call__\u001b[0;34m(self, iterable)\u001b[0m\n\u001b[1;32m   1096\u001b[0m \u001b[0;34m\u001b[0m\u001b[0m\n\u001b[1;32m   1097\u001b[0m             \u001b[0;32mwith\u001b[0m \u001b[0mself\u001b[0m\u001b[0;34m.\u001b[0m\u001b[0m_backend\u001b[0m\u001b[0;34m.\u001b[0m\u001b[0mretrieval_context\u001b[0m\u001b[0;34m(\u001b[0m\u001b[0;34m)\u001b[0m\u001b[0;34m:\u001b[0m\u001b[0;34m\u001b[0m\u001b[0;34m\u001b[0m\u001b[0m\n\u001b[0;32m-> 1098\u001b[0;31m                 \u001b[0mself\u001b[0m\u001b[0;34m.\u001b[0m\u001b[0mretrieve\u001b[0m\u001b[0;34m(\u001b[0m\u001b[0;34m)\u001b[0m\u001b[0;34m\u001b[0m\u001b[0;34m\u001b[0m\u001b[0m\n\u001b[0m\u001b[1;32m   1099\u001b[0m             \u001b[0;31m# Make sure that we get a last message telling us we are done\u001b[0m\u001b[0;34m\u001b[0m\u001b[0;34m\u001b[0m\u001b[0;34m\u001b[0m\u001b[0m\n\u001b[1;32m   1100\u001b[0m             \u001b[0melapsed_time\u001b[0m \u001b[0;34m=\u001b[0m \u001b[0mtime\u001b[0m\u001b[0;34m.\u001b[0m\u001b[0mtime\u001b[0m\u001b[0;34m(\u001b[0m\u001b[0;34m)\u001b[0m \u001b[0;34m-\u001b[0m \u001b[0mself\u001b[0m\u001b[0;34m.\u001b[0m\u001b[0m_start_time\u001b[0m\u001b[0;34m\u001b[0m\u001b[0;34m\u001b[0m\u001b[0m\n",
            "\u001b[0;32m/usr/local/lib/python3.8/dist-packages/joblib/parallel.py\u001b[0m in \u001b[0;36mretrieve\u001b[0;34m(self)\u001b[0m\n\u001b[1;32m    973\u001b[0m             \u001b[0;32mtry\u001b[0m\u001b[0;34m:\u001b[0m\u001b[0;34m\u001b[0m\u001b[0;34m\u001b[0m\u001b[0m\n\u001b[1;32m    974\u001b[0m                 \u001b[0;32mif\u001b[0m \u001b[0mgetattr\u001b[0m\u001b[0;34m(\u001b[0m\u001b[0mself\u001b[0m\u001b[0;34m.\u001b[0m\u001b[0m_backend\u001b[0m\u001b[0;34m,\u001b[0m \u001b[0;34m'supports_timeout'\u001b[0m\u001b[0;34m,\u001b[0m \u001b[0;32mFalse\u001b[0m\u001b[0;34m)\u001b[0m\u001b[0;34m:\u001b[0m\u001b[0;34m\u001b[0m\u001b[0;34m\u001b[0m\u001b[0m\n\u001b[0;32m--> 975\u001b[0;31m                     \u001b[0mself\u001b[0m\u001b[0;34m.\u001b[0m\u001b[0m_output\u001b[0m\u001b[0;34m.\u001b[0m\u001b[0mextend\u001b[0m\u001b[0;34m(\u001b[0m\u001b[0mjob\u001b[0m\u001b[0;34m.\u001b[0m\u001b[0mget\u001b[0m\u001b[0;34m(\u001b[0m\u001b[0mtimeout\u001b[0m\u001b[0;34m=\u001b[0m\u001b[0mself\u001b[0m\u001b[0;34m.\u001b[0m\u001b[0mtimeout\u001b[0m\u001b[0;34m)\u001b[0m\u001b[0;34m)\u001b[0m\u001b[0;34m\u001b[0m\u001b[0;34m\u001b[0m\u001b[0m\n\u001b[0m\u001b[1;32m    976\u001b[0m                 \u001b[0;32melse\u001b[0m\u001b[0;34m:\u001b[0m\u001b[0;34m\u001b[0m\u001b[0;34m\u001b[0m\u001b[0m\n\u001b[1;32m    977\u001b[0m                     \u001b[0mself\u001b[0m\u001b[0;34m.\u001b[0m\u001b[0m_output\u001b[0m\u001b[0;34m.\u001b[0m\u001b[0mextend\u001b[0m\u001b[0;34m(\u001b[0m\u001b[0mjob\u001b[0m\u001b[0;34m.\u001b[0m\u001b[0mget\u001b[0m\u001b[0;34m(\u001b[0m\u001b[0;34m)\u001b[0m\u001b[0;34m)\u001b[0m\u001b[0;34m\u001b[0m\u001b[0;34m\u001b[0m\u001b[0m\n",
            "\u001b[0;32m/usr/local/lib/python3.8/dist-packages/joblib/_parallel_backends.py\u001b[0m in \u001b[0;36mwrap_future_result\u001b[0;34m(future, timeout)\u001b[0m\n\u001b[1;32m    565\u001b[0m         AsyncResults.get from multiprocessing.\"\"\"\n\u001b[1;32m    566\u001b[0m         \u001b[0;32mtry\u001b[0m\u001b[0;34m:\u001b[0m\u001b[0;34m\u001b[0m\u001b[0;34m\u001b[0m\u001b[0m\n\u001b[0;32m--> 567\u001b[0;31m             \u001b[0;32mreturn\u001b[0m \u001b[0mfuture\u001b[0m\u001b[0;34m.\u001b[0m\u001b[0mresult\u001b[0m\u001b[0;34m(\u001b[0m\u001b[0mtimeout\u001b[0m\u001b[0;34m=\u001b[0m\u001b[0mtimeout\u001b[0m\u001b[0;34m)\u001b[0m\u001b[0;34m\u001b[0m\u001b[0;34m\u001b[0m\u001b[0m\n\u001b[0m\u001b[1;32m    568\u001b[0m         \u001b[0;32mexcept\u001b[0m \u001b[0mCfTimeoutError\u001b[0m \u001b[0;32mas\u001b[0m \u001b[0me\u001b[0m\u001b[0;34m:\u001b[0m\u001b[0;34m\u001b[0m\u001b[0;34m\u001b[0m\u001b[0m\n\u001b[1;32m    569\u001b[0m             \u001b[0;32mraise\u001b[0m \u001b[0mTimeoutError\u001b[0m \u001b[0;32mfrom\u001b[0m \u001b[0me\u001b[0m\u001b[0;34m\u001b[0m\u001b[0;34m\u001b[0m\u001b[0m\n",
            "\u001b[0;32m/usr/lib/python3.8/concurrent/futures/_base.py\u001b[0m in \u001b[0;36mresult\u001b[0;34m(self, timeout)\u001b[0m\n\u001b[1;32m    437\u001b[0m                     \u001b[0;32mreturn\u001b[0m \u001b[0mself\u001b[0m\u001b[0;34m.\u001b[0m\u001b[0m__get_result\u001b[0m\u001b[0;34m(\u001b[0m\u001b[0;34m)\u001b[0m\u001b[0;34m\u001b[0m\u001b[0;34m\u001b[0m\u001b[0m\n\u001b[1;32m    438\u001b[0m \u001b[0;34m\u001b[0m\u001b[0m\n\u001b[0;32m--> 439\u001b[0;31m                 \u001b[0mself\u001b[0m\u001b[0;34m.\u001b[0m\u001b[0m_condition\u001b[0m\u001b[0;34m.\u001b[0m\u001b[0mwait\u001b[0m\u001b[0;34m(\u001b[0m\u001b[0mtimeout\u001b[0m\u001b[0;34m)\u001b[0m\u001b[0;34m\u001b[0m\u001b[0;34m\u001b[0m\u001b[0m\n\u001b[0m\u001b[1;32m    440\u001b[0m \u001b[0;34m\u001b[0m\u001b[0m\n\u001b[1;32m    441\u001b[0m                 \u001b[0;32mif\u001b[0m \u001b[0mself\u001b[0m\u001b[0;34m.\u001b[0m\u001b[0m_state\u001b[0m \u001b[0;32min\u001b[0m \u001b[0;34m[\u001b[0m\u001b[0mCANCELLED\u001b[0m\u001b[0;34m,\u001b[0m \u001b[0mCANCELLED_AND_NOTIFIED\u001b[0m\u001b[0;34m]\u001b[0m\u001b[0;34m:\u001b[0m\u001b[0;34m\u001b[0m\u001b[0;34m\u001b[0m\u001b[0m\n",
            "\u001b[0;32m/usr/lib/python3.8/threading.py\u001b[0m in \u001b[0;36mwait\u001b[0;34m(self, timeout)\u001b[0m\n\u001b[1;32m    300\u001b[0m         \u001b[0;32mtry\u001b[0m\u001b[0;34m:\u001b[0m    \u001b[0;31m# restore state no matter what (e.g., KeyboardInterrupt)\u001b[0m\u001b[0;34m\u001b[0m\u001b[0;34m\u001b[0m\u001b[0m\n\u001b[1;32m    301\u001b[0m             \u001b[0;32mif\u001b[0m \u001b[0mtimeout\u001b[0m \u001b[0;32mis\u001b[0m \u001b[0;32mNone\u001b[0m\u001b[0;34m:\u001b[0m\u001b[0;34m\u001b[0m\u001b[0;34m\u001b[0m\u001b[0m\n\u001b[0;32m--> 302\u001b[0;31m                 \u001b[0mwaiter\u001b[0m\u001b[0;34m.\u001b[0m\u001b[0macquire\u001b[0m\u001b[0;34m(\u001b[0m\u001b[0;34m)\u001b[0m\u001b[0;34m\u001b[0m\u001b[0;34m\u001b[0m\u001b[0m\n\u001b[0m\u001b[1;32m    303\u001b[0m                 \u001b[0mgotit\u001b[0m \u001b[0;34m=\u001b[0m \u001b[0;32mTrue\u001b[0m\u001b[0;34m\u001b[0m\u001b[0;34m\u001b[0m\u001b[0m\n\u001b[1;32m    304\u001b[0m             \u001b[0;32melse\u001b[0m\u001b[0;34m:\u001b[0m\u001b[0;34m\u001b[0m\u001b[0;34m\u001b[0m\u001b[0m\n",
            "\u001b[0;31mKeyboardInterrupt\u001b[0m: "
          ]
        }
      ]
    },
    {
      "cell_type": "code",
      "source": [
        "\n",
        "rg_gb = GradientBoostingRegressor(random_state = 0, warm_start = True)  # 5-fold cv by default\n",
        "rg_gb.fit(X_train_stacked, y_train)\n",
        "gb_train_pre = rg_gb.predict(X_train_stacked)\n",
        "gb_val_pre = rg_gb.predict(X_val_stacked)\n",
        "gb_test_pre = rg_gb.predict(X_test_stacked)\n",
        "print(f'Training R squared: ',rg_gb.score(X_train_stacked, y_train))\n",
        "print(f'Training MSE: ', mean_squared_error(y_train, gb_train_pre))\n",
        "print(f'Validation score: ', mean_squared_error(y_val, gb_val_pre))\n",
        "print(f'Test score: ', mean_squared_error(y_test, gb_test_pre))\n"
      ],
      "metadata": {
        "colab": {
          "base_uri": "https://localhost:8080/"
        },
        "id": "3ayO8avyksiP",
        "outputId": "aa8b20ac-08f6-439f-a296-1315c680b7c9"
      },
      "id": "3ayO8avyksiP",
      "execution_count": null,
      "outputs": [
        {
          "output_type": "stream",
          "name": "stdout",
          "text": [
            "Training R squared:  0.972600573980122\n",
            "Training MSE:  2.714556978381523\n",
            "Validation score:  2.7878411073262677\n",
            "Test score:  2.765794687459479\n"
          ]
        }
      ]
    },
    {
      "cell_type": "markdown",
      "source": [
        "### Hist Gradient Boosting"
      ],
      "metadata": {
        "id": "wBf3CAnKk-Y6"
      },
      "id": "wBf3CAnKk-Y6"
    },
    {
      "cell_type": "code",
      "source": [
        "params = {'loss':['squared_error', 'absolute_error', 'poisson', 'quantile'],\n",
        "          'learning_rate': [0.01,0.02,0.05,0.1],\n",
        "          'max_iter': [30, 50, 100, 200, 300],\n",
        "          'criterion':['friedman_mse', 'squared_error'],\n",
        "          'max_features': ['sqrt', 'log2', 'auto'],\n",
        "          'max_depth': [2, 5, 10, 15, 20],\n",
        "          'early_stopping': ['auto', True]\n",
        "          }\n",
        "\n",
        "rg_histgb = HistGradientBoostingRegressor(random_state = 0, warm_start = True) \n",
        "pipe_histgb = make_pipeline(GridSearchCV(rg_histgb, \n",
        "                                    param_grid = params,\n",
        "                                    n_jobs = -1,\n",
        "                                    return_train_score = True))\n",
        "pipe_histgb.fit(X_train_stacked, y_train)\n",
        "grid_results_histgb = pipe_histgb.named_steps['gridsearchcv']\n",
        "\n",
        "print(f'Best train score: ', grid_results_histgb.best_score_ )\n",
        "print(f'Validation score: ', pipe_histgb.score(X_val_stacked, y_val))\n",
        "print(f'Test score:       ', pipe_histgb.score(X_test_stacked, y_test))\n",
        "print(f'Best model params: ', grid_results_histgb.best_params_)"
      ],
      "metadata": {
        "id": "odG8fNmSm-sa"
      },
      "id": "odG8fNmSm-sa",
      "execution_count": null,
      "outputs": []
    },
    {
      "cell_type": "code",
      "source": [
        "rg_hist = HistGradientBoostingRegressor(random_state = 0, warm_start = True)  # 5-fold cv by default\n",
        "rg_hist.fit(X_train_stacked, y_train)\n",
        "hist_train_pre = rg_hist.predict(X_train_stacked)\n",
        "hist_val_pre = rg_hist.predict(X_val_stacked)\n",
        "hist_test_pre = rg_hist.predict(X_test_stacked)\n",
        "print(f'Training R squared: ',rg_hist.score(X_train_stacked, y_train))\n",
        "print(f'Training MSE: ', mean_squared_error(y_train, hist_train_pre))\n",
        "print(f'Validation score: ', mean_squared_error(y_val, hist_val_pre))\n",
        "print(f'Test score: ', mean_squared_error(y_test, hist_test_pre))"
      ],
      "metadata": {
        "colab": {
          "base_uri": "https://localhost:8080/"
        },
        "id": "n4ufXVN5l-Po",
        "outputId": "509ac7fe-f349-43a0-e47d-068be4326fa3"
      },
      "id": "n4ufXVN5l-Po",
      "execution_count": null,
      "outputs": [
        {
          "output_type": "stream",
          "name": "stdout",
          "text": [
            "Training R squared:  0.9892382927191664\n",
            "Training MSE:  1.0661999845285846\n",
            "Validation score:  1.1158420644965972\n",
            "Test score:  1.1121204618763532\n"
          ]
        }
      ]
    },
    {
      "cell_type": "markdown",
      "source": [
        "### XgBoost"
      ],
      "metadata": {
        "id": "i2v0X0r3ky3m"
      },
      "id": "i2v0X0r3ky3m"
    },
    {
      "cell_type": "code",
      "source": [
        "params = {'max_depth':[3,4,6,8,10,12,20],\n",
        "          'n_estimators': [50, 100, 150, 200, 300],\n",
        "          'learning_rate': [0.001,0.01,0.02,0.05,0.1]\n",
        "          }\n",
        "\n",
        "rg_xgb = XGBRegressor(random_state = 0) \n",
        "pipe_xgb = make_pipeline(GridSearchCV(rg_xgb, \n",
        "                                    param_grid = params,\n",
        "                                    n_jobs = -1,\n",
        "                                    return_train_score = True))\n",
        "pipe_xgb.fit(X_train_stacked, y_train)\n",
        "grid_results_xgb = pipe_xgb.named_steps['gridsearchcv']\n",
        "\n",
        "print(f'Best train score: ', grid_results_xgb.best_score_ )\n",
        "print(f'Validation score: ', pipe_xgb.score(X_val_stacked, y_val))\n",
        "print(f'Test score:       ', pipe_xgb.score(X_test_stacked, y_test))\n",
        "print(f'Best model params: ', grid_results_xgb.best_params_)"
      ],
      "metadata": {
        "id": "TV9muqBrk2nu"
      },
      "id": "TV9muqBrk2nu",
      "execution_count": null,
      "outputs": []
    },
    {
      "cell_type": "code",
      "source": [
        "rg_xgb = XGBRegressor(random_state = 0)  # 5-fold cv by default\n",
        "rg_xgb.fit(X_train_stacked, y_train)\n",
        "xgb_train_pre = rg_xgb.predict(X_train_stacked)\n",
        "xgb_val_pre = rg_xgb.predict(X_val_stacked)\n",
        "xgb_test_pre = rg_xgb.predict(X_test_stacked)\n",
        "print(f'Training R squared: ',rg_xgb.score(X_train_stacked, y_train))\n",
        "print(f'Training MSE: ', mean_squared_error(y_train, xgb_train_pre))\n",
        "print(f'Validation score: ', mean_squared_error(y_val, xgb_val_pre))\n",
        "print(f'Test score: ', mean_squared_error(y_test, _test_pre))"
      ],
      "metadata": {
        "colab": {
          "base_uri": "https://localhost:8080/"
        },
        "id": "hKhaoUjMwMsl",
        "outputId": "31b43f8f-e4c7-40df-dc24-9136d4752574"
      },
      "id": "hKhaoUjMwMsl",
      "execution_count": null,
      "outputs": [
        {
          "output_type": "stream",
          "name": "stdout",
          "text": [
            "[01:47:06] WARNING: /workspace/src/objective/regression_obj.cu:152: reg:linear is now deprecated in favor of reg:squarederror.\n",
            "Training R squared:  0.972547094310702\n",
            "Training MSE:  2.719855396301678\n",
            "Validation score:  2.7898916066384913\n",
            "Test score:  2.7694919845860366\n"
          ]
        }
      ]
    },
    {
      "cell_type": "markdown",
      "source": [
        "### LGBM"
      ],
      "metadata": {
        "id": "Ulx8x7NjkuwV"
      },
      "id": "Ulx8x7NjkuwV"
    },
    {
      "cell_type": "code",
      "source": [
        "params = {'boosting_type':['gbdt', 'rf', 'dart'],\n",
        "         'max_depth':[3,4,6,8,10,12,20],\n",
        "         'n_estimators':[50, 100, 150, 200, 300],\n",
        "         'learning_rate':[0.001,0.01,0.05,0.1,1]\n",
        "}\n",
        "rg_lgbm = LGBMRegressor(random_state = 0) \n",
        "pipe_lgbm = make_pipeline(GridSearchCV(rg_lgbm, \n",
        "                                    param_grid = params,\n",
        "                                    n_jobs = -1,\n",
        "                                    return_train_score = True))\n",
        "pipe_lgbm.fit(X_train_stacked, y_train)\n",
        "grid_results_lgbm = pipe_lgbm.named_steps['gridsearchcv']\n",
        "\n",
        "print(f'Best train score: ', grid_results_lgbm.best_score_ )\n",
        "print(f'Validation score: ', pipe_lgbm.score(X_val_stacked, y_val))\n",
        "print(f'Test score:       ', pipe_lgbm.score(X_test_stacked, y_test))\n",
        "print(f'Best model params: ', grid_results_lgbm.best_params_)"
      ],
      "metadata": {
        "id": "iJAJzRCok5cd"
      },
      "id": "iJAJzRCok5cd",
      "execution_count": null,
      "outputs": []
    },
    {
      "cell_type": "code",
      "source": [
        "rg_lgbm = LGBMRegressor(random_state = 0)  # 5-fold cv by default\n",
        "rg_lgbm.fit(X_train_stacked, y_train)\n",
        "lgbm_train_pre = rg_lgbm.predict(X_train_stacked)\n",
        "lgbm_val_pre = rg_lgbm.predict(X_val_stacked)\n",
        "lgbm_test_pre = rg_lgbm.predict(X_test_stacked)\n",
        "print(f'Training R squared: ',rg_lgbm.score(X_train_stacked, y_train))\n",
        "print(f'Training MSE: ', mean_squared_error(y_train, lgbm_train_pre))\n",
        "print(f'Validation score: ', mean_squared_error(y_val, lgbm_val_pre))\n",
        "print(f'Test score: ', mean_squared_error(y_test, lgbm_test_pre))"
      ],
      "metadata": {
        "colab": {
          "base_uri": "https://localhost:8080/"
        },
        "id": "fG8gJ7ZYwgT5",
        "outputId": "9092873d-7512-4022-a684-358719acf007"
      },
      "id": "fG8gJ7ZYwgT5",
      "execution_count": null,
      "outputs": [
        {
          "output_type": "stream",
          "name": "stdout",
          "text": [
            "Training R squared:  0.9892297015514637\n",
            "Training MSE:  1.0670511415646102\n",
            "Validation score:  1.1158724445579844\n",
            "Test score:  1.1169247540684926\n"
          ]
        }
      ]
    },
    {
      "cell_type": "markdown",
      "source": [
        "### SVM"
      ],
      "metadata": {
        "id": "je5vrwsCk6FG"
      },
      "id": "je5vrwsCk6FG"
    },
    {
      "cell_type": "code",
      "source": [
        "params = {'kernel': ['linear', 'poly', 'rbf', 'sigmoid', 'precomputed'],\n",
        "          'C':[0.1, 0.5, 1.0, 2.0, 5.0, 10.0, 20.0]\n",
        "}\n",
        "rg_svm = SVR() \n",
        "pipe_svm = make_pipeline(GridSearchCV(rg_svm, \n",
        "                                    param_grid = params,\n",
        "                                    n_jobs = -1,\n",
        "                                    return_train_score = True))\n",
        "pipe_svm.fit(X_train_stacked, y_train)\n",
        "grid_results_svm = pipe_lgbm.named_steps['gridsearchcv']\n",
        "\n",
        "print(f'Best train score: ', grid_results_svm.best_score_ )\n",
        "print(f'Validation score: ', pipe_svm.score(X_val_stacked, y_val))\n",
        "print(f'Test score:       ', pipe_svm.score(X_test_stacked, y_test))\n",
        "print(f'Best model params: ', grid_results_svm.best_params_)"
      ],
      "metadata": {
        "id": "QUm9XqyPlHkP"
      },
      "id": "QUm9XqyPlHkP",
      "execution_count": null,
      "outputs": []
    },
    {
      "cell_type": "code",
      "source": [
        "rg_svm = SVR()  # 5-fold cv by default\n",
        "rg_svm.fit(X_train_stacked, y_train)\n",
        "svm_train_pre = rg_svm.predict(X_train_stacked)\n",
        "svm_val_pre = rg_svm.predict(X_val_stacked)\n",
        "svm_test_pre = rg_svm.predict(X_test_stacked)\n",
        "print(f'Training R squared: ',rg_svm.score(X_train_stacked, y_train))\n",
        "print(f'Training MSE: ', mean_squared_error(y_train, svm_train_pre))\n",
        "print(f'Validation score: ', mean_squared_error(y_val, svm_val_pre))\n",
        "print(f'Test score: ', mean_squared_error(y_test, svm_test_pre))"
      ],
      "metadata": {
        "id": "0FYaJTZOw8JU"
      },
      "id": "0FYaJTZOw8JU",
      "execution_count": null,
      "outputs": []
    },
    {
      "cell_type": "markdown",
      "source": [
        "### Linear Regression"
      ],
      "metadata": {
        "id": "Nn55YubovKY0"
      },
      "id": "Nn55YubovKY0"
    },
    {
      "cell_type": "code",
      "source": [
        "rg_lm = LinearRegression() \n",
        "rg_lm.fit(X_train_stacked, y_train)\n",
        "lm_train_pre = rg_lm.predict(X_train_stacked)\n",
        "lm_val_pre = rg_lm.predict(X_val_stacked)\n",
        "lm_test_pre = rg_lm.predict(X_test_stacked)\n",
        "print(f'Training R squared: ',rg_lm.score(X_train_stacked, y_train))\n",
        "print(f'Training MSE: ', mean_squared_error(y_train, lm_train_pre))\n",
        "print(f'Validation score: ', mean_squared_error(y_val, lm_val_pre))\n",
        "print(f'Test score: ', mean_squared_error(y_test, lm_test_pre))"
      ],
      "metadata": {
        "colab": {
          "base_uri": "https://localhost:8080/"
        },
        "id": "OkI60DdjvKDu",
        "outputId": "3ba938ba-f7bd-4178-ebf1-7ba475036cda"
      },
      "id": "OkI60DdjvKDu",
      "execution_count": null,
      "outputs": [
        {
          "output_type": "stream",
          "name": "stdout",
          "text": [
            "Training R squared:  0.9746007865927272\n",
            "Training MSE:  2.5163889181508026\n",
            "Validation score:  2.5410875186744626\n",
            "Test score:  2.547671110164228\n"
          ]
        }
      ]
    },
    {
      "cell_type": "markdown",
      "source": [
        "### Elastic Net"
      ],
      "metadata": {
        "id": "M-7yqrq0lJ1C"
      },
      "id": "M-7yqrq0lJ1C"
    },
    {
      "cell_type": "code",
      "source": [
        "params = {'l1_ratio': [0,0.5,1]}\n",
        "rg_elastic = ElasticNet(random_state=0, warm_start=True) \n",
        "pipe_elastic = make_pipeline(GridSearchCV(rg_elastic, \n",
        "                                    param_grid = params,\n",
        "                                    n_jobs = -1,\n",
        "                                    return_train_score = True))\n",
        "pipe_elastic.fit(X_train_stacked, y_train)\n",
        "grid_results_elastic = pipe_elastic.named_steps['gridsearchcv']\n",
        "\n",
        "print(f'Best train score: ', grid_results_elastic.best_score_ )\n",
        "print(f'Validation score: ', pipe_elastic.score(X_val_stacked, y_val))\n",
        "print(f'Test score:       ', pipe_elastic.score(X_test_stacked, y_test))\n",
        "print(f'Best model params: ', grid_results_elastic.best_params_)"
      ],
      "metadata": {
        "id": "Cr4hnKtUtkDH"
      },
      "id": "Cr4hnKtUtkDH",
      "execution_count": null,
      "outputs": []
    },
    {
      "cell_type": "code",
      "source": [
        "rg_elastic = ElasticNet(random_state=0, warm_start=True) \n",
        "rg_elastic.fit(X_train_stacked, y_train)\n",
        "elastic_train_pre = rg_elastic.predict(X_train_stacked)\n",
        "elastic_val_pre = rg_elastic.predict(X_val_stacked)\n",
        "elastic_test_pre = rg_elastic.predict(X_test_stacked)\n",
        "print(f'Training R squared: ',rg_elastic.score(X_train_stacked, y_train))\n",
        "print(f'Training MSE: ', mean_squared_error(y_train, elastic_train_pre))\n",
        "print(f'Validation score: ', mean_squared_error(y_val, elastic_val_pre))\n",
        "print(f'Test score: ', mean_squared_error(y_test, elastic_test_pre))"
      ],
      "metadata": {
        "colab": {
          "base_uri": "https://localhost:8080/"
        },
        "id": "vkpvXuw6xOCN",
        "outputId": "5f70aa96-858c-4543-8b90-187c8514849b"
      },
      "id": "vkpvXuw6xOCN",
      "execution_count": null,
      "outputs": [
        {
          "output_type": "stream",
          "name": "stdout",
          "text": [
            "Training R squared:  0.9012720054844169\n",
            "Training MSE:  9.781327765021626\n",
            "Validation score:  9.886450523970247\n",
            "Test score:  9.718715332623836\n"
          ]
        }
      ]
    }
  ],
  "metadata": {
    "kernelspec": {
      "display_name": "Python 3 (ipykernel)",
      "language": "python",
      "name": "python3"
    },
    "language_info": {
      "codemirror_mode": {
        "name": "ipython",
        "version": 3
      },
      "file_extension": ".py",
      "mimetype": "text/x-python",
      "name": "python",
      "nbconvert_exporter": "python",
      "pygments_lexer": "ipython3",
      "version": "3.9.16"
    },
    "colab": {
      "provenance": []
    }
  },
  "nbformat": 4,
  "nbformat_minor": 5
}